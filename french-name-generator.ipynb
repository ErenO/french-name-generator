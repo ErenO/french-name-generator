{
 "cells": [
  {
   "cell_type": "code",
   "execution_count": 1,
   "metadata": {},
   "outputs": [],
   "source": [
    "import os\n",
    "import sys\n",
    "import pandas as pd"
   ]
  },
  {
   "cell_type": "code",
   "execution_count": 2,
   "metadata": {},
   "outputs": [
    {
     "name": "stdout",
     "output_type": "stream",
     "text": [
      "Prenoms.csv  README.md  french-name-generator.ipynb  noms2008nat_txt.txt\r\n"
     ]
    }
   ],
   "source": [
    "ls"
   ]
  },
  {
   "cell_type": "code",
   "execution_count": 6,
   "metadata": {},
   "outputs": [
    {
     "name": "stdout",
     "output_type": "stream",
     "text": [
      "01_prenom;02_genre;03_langage;04_fr�quence\r\n",
      "aaliyah;f;english (modern);0\r\n",
      "aapeli;m;finnish;0\r\n",
      "aapo;m;finnish;0\r\n",
      "aaren;m,f;english;0\r\n",
      "aarne;m;finnish;0\r\n",
      "aar�n;m;spanish;0\r\n",
      "aaron;m;english, biblical;1.37\r\n",
      "aatami;m;finnish;0\r\n",
      "aatto;m;finnish;0\r\n",
      "cat: write error: Broken pipe\r\n"
     ]
    }
   ],
   "source": [
    "cat Prenoms.csv | head -10"
   ]
  },
  {
   "cell_type": "code",
   "execution_count": 9,
   "metadata": {},
   "outputs": [],
   "source": [
    "df_fname = pd.read_csv('Prenoms.csv', sep=';', encoding = \"ISO-8859-1\")"
   ]
  },
  {
   "cell_type": "code",
   "execution_count": 10,
   "metadata": {},
   "outputs": [
    {
     "data": {
      "text/html": [
       "<div>\n",
       "<style scoped>\n",
       "    .dataframe tbody tr th:only-of-type {\n",
       "        vertical-align: middle;\n",
       "    }\n",
       "\n",
       "    .dataframe tbody tr th {\n",
       "        vertical-align: top;\n",
       "    }\n",
       "\n",
       "    .dataframe thead th {\n",
       "        text-align: right;\n",
       "    }\n",
       "</style>\n",
       "<table border=\"1\" class=\"dataframe\">\n",
       "  <thead>\n",
       "    <tr style=\"text-align: right;\">\n",
       "      <th></th>\n",
       "      <th>01_prenom</th>\n",
       "      <th>02_genre</th>\n",
       "      <th>03_langage</th>\n",
       "      <th>04_fréquence</th>\n",
       "    </tr>\n",
       "  </thead>\n",
       "  <tbody>\n",
       "    <tr>\n",
       "      <th>0</th>\n",
       "      <td>aaliyah</td>\n",
       "      <td>f</td>\n",
       "      <td>english (modern)</td>\n",
       "      <td>0.0</td>\n",
       "    </tr>\n",
       "    <tr>\n",
       "      <th>1</th>\n",
       "      <td>aapeli</td>\n",
       "      <td>m</td>\n",
       "      <td>finnish</td>\n",
       "      <td>0.0</td>\n",
       "    </tr>\n",
       "    <tr>\n",
       "      <th>2</th>\n",
       "      <td>aapo</td>\n",
       "      <td>m</td>\n",
       "      <td>finnish</td>\n",
       "      <td>0.0</td>\n",
       "    </tr>\n",
       "    <tr>\n",
       "      <th>3</th>\n",
       "      <td>aaren</td>\n",
       "      <td>m,f</td>\n",
       "      <td>english</td>\n",
       "      <td>0.0</td>\n",
       "    </tr>\n",
       "    <tr>\n",
       "      <th>4</th>\n",
       "      <td>aarne</td>\n",
       "      <td>m</td>\n",
       "      <td>finnish</td>\n",
       "      <td>0.0</td>\n",
       "    </tr>\n",
       "  </tbody>\n",
       "</table>\n",
       "</div>"
      ],
      "text/plain": [
       "  01_prenom 02_genre        03_langage  04_fréquence\n",
       "0   aaliyah        f  english (modern)           0.0\n",
       "1    aapeli        m           finnish           0.0\n",
       "2      aapo        m           finnish           0.0\n",
       "3     aaren      m,f           english           0.0\n",
       "4     aarne        m           finnish           0.0"
      ]
     },
     "execution_count": 10,
     "metadata": {},
     "output_type": "execute_result"
    }
   ],
   "source": [
    "df_fname.head()"
   ]
  },
  {
   "cell_type": "code",
   "execution_count": 11,
   "metadata": {},
   "outputs": [
    {
     "name": "stdout",
     "output_type": "stream",
     "text": [
      "NOM\t_1891_1900\t_1901_1910\t_1911_1920\t_1921_1930\t_1931_1940\t_1941_1950\t_1951_1960\t_1961_1970\t_1971_1980\t_1981_1990\t_1991_2000\r",
      "\r\n",
      "AABI\t0\t0\t0\t0\t0\t0\t0\t0\t4\t21\t7\r",
      "\r\n",
      "AABID\t0\t0\t0\t0\t0\t0\t0\t0\t7\t13\t17\r",
      "\r\n",
      "AALBERG\t1\t5\t2\t5\t4\t6\t4\t2\t1\t0\t0\r",
      "\r\n",
      "AAMARA\t0\t0\t0\t0\t0\t0\t0\t1\t11\t5\t15\r",
      "\r\n",
      "AARAB\t0\t0\t0\t0\t0\t0\t0\t3\t63\t204\t139\r",
      "\r\n",
      "AARNINK\t0\t0\t0\t0\t0\t0\t14\t7\t2\t10\t8\r",
      "\r\n",
      "AARON\t19\t34\t26\t37\t18\t31\t74\t56\t37\t59\t53\r",
      "\r\n",
      "AARRAS\t0\t0\t0\t0\t0\t0\t0\t1\t7\t9\t16\r",
      "\r\n",
      "AATAR\t0\t0\t0\t0\t0\t0\t0\t1\t12\t15\t13\r",
      "\r\n",
      "cat: write error: Broken pipe\r\n"
     ]
    }
   ],
   "source": [
    "cat noms2008nat_txt.txt | head -10"
   ]
  },
  {
   "cell_type": "code",
   "execution_count": 16,
   "metadata": {},
   "outputs": [],
   "source": [
    "df_lname = pd.read_csv('noms2008nat_txt.txt', sep='\\t', encoding = \"ISO-8859-1\")"
   ]
  },
  {
   "cell_type": "code",
   "execution_count": 18,
   "metadata": {},
   "outputs": [
    {
     "data": {
      "text/html": [
       "<div>\n",
       "<style scoped>\n",
       "    .dataframe tbody tr th:only-of-type {\n",
       "        vertical-align: middle;\n",
       "    }\n",
       "\n",
       "    .dataframe tbody tr th {\n",
       "        vertical-align: top;\n",
       "    }\n",
       "\n",
       "    .dataframe thead th {\n",
       "        text-align: right;\n",
       "    }\n",
       "</style>\n",
       "<table border=\"1\" class=\"dataframe\">\n",
       "  <thead>\n",
       "    <tr style=\"text-align: right;\">\n",
       "      <th></th>\n",
       "      <th>NOM</th>\n",
       "      <th>_1891_1900</th>\n",
       "      <th>_1901_1910</th>\n",
       "      <th>_1911_1920</th>\n",
       "      <th>_1921_1930</th>\n",
       "      <th>_1931_1940</th>\n",
       "      <th>_1941_1950</th>\n",
       "      <th>_1951_1960</th>\n",
       "      <th>_1961_1970</th>\n",
       "      <th>_1971_1980</th>\n",
       "      <th>_1981_1990</th>\n",
       "      <th>_1991_2000</th>\n",
       "    </tr>\n",
       "  </thead>\n",
       "  <tbody>\n",
       "    <tr>\n",
       "      <th>0</th>\n",
       "      <td>AABI</td>\n",
       "      <td>0</td>\n",
       "      <td>0</td>\n",
       "      <td>0</td>\n",
       "      <td>0</td>\n",
       "      <td>0</td>\n",
       "      <td>0</td>\n",
       "      <td>0</td>\n",
       "      <td>0</td>\n",
       "      <td>4</td>\n",
       "      <td>21</td>\n",
       "      <td>7</td>\n",
       "    </tr>\n",
       "    <tr>\n",
       "      <th>1</th>\n",
       "      <td>AABID</td>\n",
       "      <td>0</td>\n",
       "      <td>0</td>\n",
       "      <td>0</td>\n",
       "      <td>0</td>\n",
       "      <td>0</td>\n",
       "      <td>0</td>\n",
       "      <td>0</td>\n",
       "      <td>0</td>\n",
       "      <td>7</td>\n",
       "      <td>13</td>\n",
       "      <td>17</td>\n",
       "    </tr>\n",
       "    <tr>\n",
       "      <th>2</th>\n",
       "      <td>AALBERG</td>\n",
       "      <td>1</td>\n",
       "      <td>5</td>\n",
       "      <td>2</td>\n",
       "      <td>5</td>\n",
       "      <td>4</td>\n",
       "      <td>6</td>\n",
       "      <td>4</td>\n",
       "      <td>2</td>\n",
       "      <td>1</td>\n",
       "      <td>0</td>\n",
       "      <td>0</td>\n",
       "    </tr>\n",
       "    <tr>\n",
       "      <th>3</th>\n",
       "      <td>AAMARA</td>\n",
       "      <td>0</td>\n",
       "      <td>0</td>\n",
       "      <td>0</td>\n",
       "      <td>0</td>\n",
       "      <td>0</td>\n",
       "      <td>0</td>\n",
       "      <td>0</td>\n",
       "      <td>1</td>\n",
       "      <td>11</td>\n",
       "      <td>5</td>\n",
       "      <td>15</td>\n",
       "    </tr>\n",
       "    <tr>\n",
       "      <th>4</th>\n",
       "      <td>AARAB</td>\n",
       "      <td>0</td>\n",
       "      <td>0</td>\n",
       "      <td>0</td>\n",
       "      <td>0</td>\n",
       "      <td>0</td>\n",
       "      <td>0</td>\n",
       "      <td>0</td>\n",
       "      <td>3</td>\n",
       "      <td>63</td>\n",
       "      <td>204</td>\n",
       "      <td>139</td>\n",
       "    </tr>\n",
       "  </tbody>\n",
       "</table>\n",
       "</div>"
      ],
      "text/plain": [
       "       NOM  _1891_1900  _1901_1910  _1911_1920  _1921_1930  _1931_1940  \\\n",
       "0     AABI           0           0           0           0           0   \n",
       "1    AABID           0           0           0           0           0   \n",
       "2  AALBERG           1           5           2           5           4   \n",
       "3   AAMARA           0           0           0           0           0   \n",
       "4    AARAB           0           0           0           0           0   \n",
       "\n",
       "   _1941_1950  _1951_1960  _1961_1970  _1971_1980  _1981_1990  _1991_2000  \n",
       "0           0           0           0           4          21           7  \n",
       "1           0           0           0           7          13          17  \n",
       "2           6           4           2           1           0           0  \n",
       "3           0           0           1          11           5          15  \n",
       "4           0           0           3          63         204         139  "
      ]
     },
     "execution_count": 18,
     "metadata": {},
     "output_type": "execute_result"
    }
   ],
   "source": [
    "df_lname.head()"
   ]
  },
  {
   "cell_type": "code",
   "execution_count": 19,
   "metadata": {},
   "outputs": [],
   "source": [
    "from random import randint"
   ]
  },
  {
   "cell_type": "code",
   "execution_count": 27,
   "metadata": {},
   "outputs": [],
   "source": [
    "fnames = len(df_fname['01_prenom'].values)\n",
    "lnames = len(df_lname['NOM'].values)"
   ]
  },
  {
   "cell_type": "code",
   "execution_count": 29,
   "metadata": {},
   "outputs": [
    {
     "name": "stdout",
     "output_type": "stream",
     "text": [
      "nombre de prénoms: 11627, nombre de noms: 218983\n"
     ]
    }
   ],
   "source": [
    "print (\"nombre de prénoms: {}, nombre de noms: {}\".format(fnames, lnames))"
   ]
  },
  {
   "cell_type": "code",
   "execution_count": 50,
   "metadata": {},
   "outputs": [
    {
     "name": "stdout",
     "output_type": "stream",
     "text": [
      "Mon nom est: Magnus PEYTOUR\n"
     ]
    }
   ],
   "source": [
    "fname_nb = randint(0, fnames)\n",
    "lname_nb = randint(0, lnames)\n",
    "\n",
    "print (\"Mon nom est: {} {}\".format(df_fname['01_prenom'].values[fname_nb].capitalize(),\n",
    "                                                     df_lname['NOM'].values[lname_nb]))"
   ]
  },
  {
   "cell_type": "code",
   "execution_count": null,
   "metadata": {},
   "outputs": [],
   "source": []
  }
 ],
 "metadata": {
  "kernelspec": {
   "display_name": "Python 3",
   "language": "python",
   "name": "python3"
  },
  "language_info": {
   "codemirror_mode": {
    "name": "ipython",
    "version": 3
   },
   "file_extension": ".py",
   "mimetype": "text/x-python",
   "name": "python",
   "nbconvert_exporter": "python",
   "pygments_lexer": "ipython3",
   "version": "3.6.8"
  }
 },
 "nbformat": 4,
 "nbformat_minor": 2
}
